{
 "cells": [
  {
   "cell_type": "code",
   "execution_count": 33,
   "id": "c9bf4da7",
   "metadata": {},
   "outputs": [],
   "source": [
    "import numpy as np\n",
    "import matplotlib.pyplot as plt"
   ]
  },
  {
   "cell_type": "code",
   "execution_count": 39,
   "id": "f49dd9b5",
   "metadata": {},
   "outputs": [],
   "source": [
    "def Bethe(n,beta,I):\n",
    "    m = 9.1093821499999992e-31 #kg\n",
    "    c = 299792458              #m/s\n",
    "    e = 1.602176487e-19        #C\n",
    "    e0 = 9.1093821499999992e-31 #kg\n",
    "    \n",
    "    dedx = (4*np.pi)/(m*c**2) * (n/beta**2) * ((e**2)/(4*np.pi*e0))**2 * (np.log((2*m*c**2*beta**2)/(I*(1-beta)**2))-beta)\n",
    "    return dedx"
   ]
  },
  {
   "cell_type": "code",
   "execution_count": 69,
   "id": "9f5ba090",
   "metadata": {},
   "outputs": [],
   "source": [
    "e = 1.602176487e-19        #C\n",
    "\n",
    "I = 85.7*e\n",
    "n = 0.02504e27\n",
    "beta = np.linspace(0.1,.9,50)\n",
    "y = Bethe(n,beta,I)/(6.242e+18*1e9)"
   ]
  },
  {
   "cell_type": "code",
   "execution_count": 71,
   "id": "5d9cabff",
   "metadata": {},
   "outputs": [
    {
     "name": "stdout",
     "output_type": "stream",
     "text": [
      "[0.1        0.11632653 0.13265306 0.14897959 0.16530612 0.18163265\n",
      " 0.19795918 0.21428571 0.23061224 0.24693878 0.26326531 0.27959184\n",
      " 0.29591837 0.3122449  0.32857143 0.34489796 0.36122449 0.37755102\n",
      " 0.39387755 0.41020408 0.42653061 0.44285714 0.45918367 0.4755102\n",
      " 0.49183673 0.50816327 0.5244898  0.54081633 0.55714286 0.57346939\n",
      " 0.58979592 0.60612245 0.62244898 0.63877551 0.65510204 0.67142857\n",
      " 0.6877551  0.70408163 0.72040816 0.73673469 0.75306122 0.76938776\n",
      " 0.78571429 0.80204082 0.81836735 0.83469388 0.85102041 0.86734694\n",
      " 0.88367347 0.9       ]\n",
      "[1.51466832e-03 1.19318336e-03 9.67459019e-04 8.02441065e-04\n",
      " 6.77867017e-04 5.81335315e-04 5.04895157e-04 4.43249742e-04\n",
      " 3.92754665e-04 3.50832527e-04 3.15616804e-04 2.85727561e-04\n",
      " 2.60125911e-04 2.38017040e-04 2.18784078e-04 2.01942059e-04\n",
      " 1.87105255e-04 1.73963626e-04 1.62265565e-04 1.51805087e-04\n",
      " 1.42412198e-04 1.33945564e-04 1.26286879e-04 1.19336490e-04\n",
      " 1.13009964e-04 1.07235384e-04 1.01951189e-04 9.71044427e-05\n",
      " 9.26494398e-05 8.85465678e-05 8.47613824e-05 8.12638473e-05\n",
      " 7.80277091e-05 7.50299811e-05 7.22505179e-05 6.96716647e-05\n",
      " 6.72779709e-05 6.50559587e-05 6.29939424e-05 6.10818941e-05\n",
      " 5.93113573e-05 5.76754107e-05 5.61686919e-05 5.47874977e-05\n",
      " 5.35299887e-05 5.23965499e-05 5.13903946e-05 5.05185794e-05\n",
      " 4.97937480e-05 4.92372731e-05]\n"
     ]
    }
   ],
   "source": [
    "print(beta)\n",
    "print(y)"
   ]
  },
  {
   "cell_type": "code",
   "execution_count": 79,
   "id": "66e39959",
   "metadata": {},
   "outputs": [
    {
     "name": "stdout",
     "output_type": "stream",
     "text": [
      "100000000001.30049\n",
      "0.9999999999869951\n",
      "0.0001811848779111952 MeV/mm\n"
     ]
    }
   ],
   "source": [
    "c = 299792458              #m/s\n",
    "p = 100e9\n",
    "me = 510e3\n",
    "E = np.sqrt(me**2+p**2)\n",
    "print(E)\n",
    "ebeta = (p)/E\n",
    "print(ebeta)\n",
    "print(str(Bethe(n,ebeta,I)/(6.242e+18*1e9)) + \" MeV/mm\")"
   ]
  },
  {
   "cell_type": "code",
   "execution_count": 88,
   "id": "f1673768",
   "metadata": {},
   "outputs": [
    {
     "data": {
      "image/png": "[encoded data removed]",
      "text/plain": [
       "<Figure size 432x288 with 1 Axes>"
      ]
     },
     "metadata": {
      "needs_background": "light"
     },
     "output_type": "display_data"
    }
   ],
   "source": [
    "plt.plot(beta,y)\n",
    "plt.title(\"Bethe Bloch\")\n",
    "plt.xlabel(r'$\\beta$')\n",
    "plt.ylabel(r'$\\frac{de}{dx}$ (MeV/mm)')\n",
    "plt.show()"
   ]
  },
  {
   "cell_type": "code",
   "execution_count": null,
   "id": "0072d9a2",
   "metadata": {},
   "outputs": [],
   "source": []
  }
 ],
 "metadata": {
  "kernelspec": {
   "display_name": "Python 3",
   "language": "python",
   "name": "python3"
  },
  "language_info": {
   "codemirror_mode": {
    "name": "ipython",
    "version": 3
   },
   "file_extension": ".py",
   "mimetype": "text/x-python",
   "name": "python",
   "nbconvert_exporter": "python",
   "pygments_lexer": "ipython3",
   "version": "3.8.8"
  }
 },
 "nbformat": 4,
 "nbformat_minor": 5
}
